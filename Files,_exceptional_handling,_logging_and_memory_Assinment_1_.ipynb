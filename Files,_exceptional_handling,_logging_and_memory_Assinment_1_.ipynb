{
  "nbformat": 4,
  "nbformat_minor": 0,
  "metadata": {
    "colab": {
      "provenance": []
    },
    "kernelspec": {
      "name": "python3",
      "display_name": "Python 3"
    },
    "language_info": {
      "name": "python"
    }
  },
  "cells": [
    {
      "cell_type": "code",
      "execution_count": null,
      "metadata": {
        "id": "uVGjCp9K_-r3"
      },
      "outputs": [],
      "source": []
    },
    {
      "cell_type": "markdown",
      "source": [
        "# **Files, exceptional handling, logging and**  memory management **Questions**"
      ],
      "metadata": {
        "id": "D_onUPn7AFK_"
      }
    },
    {
      "cell_type": "markdown",
      "source": [],
      "metadata": {
        "id": "h-eRFT5SAK2L"
      }
    },
    {
      "cell_type": "markdown",
      "source": [
        "Q1) What is the difference between interpreted and compiled languages?"
      ],
      "metadata": {
        "id": "115TbWbvAQdi"
      }
    },
    {
      "cell_type": "markdown",
      "source": [
        "The difference between interpreted and compiled languages lies in how the code is translated into machine-readable instructions and executed. Let’s break it down clearly:\n",
        "1. Compiled Languages\n",
        "\n",
        "Definition: In compiled languages, the source code is translated into machine code (binary code) by a compiler before execution.\n",
        "\n",
        "Execution: The compiled machine code is run directly by the computer’s hardware.\n",
        "\n",
        "Examples: C, C++, Go, Rust\n",
        "\n",
        "Pros:\n",
        "\n",
        "Faster execution because the code is already in machine language.\n",
        "\n",
        "Optimizations can be done during compilation.\n",
        "\n",
        "Cons:\n",
        "\n",
        "Compilation step is required before running the program.\n",
        "\n",
        "Less flexible for rapid changes/debugging.\n",
        "\n",
        "Example workflow:\n",
        "\n",
        "Source Code (hello.c) --> Compiler --> Executable (hello.exe) --> Run\n",
        "\n",
        "2. Interpreted Languages\n",
        "\n",
        "Definition: In interpreted languages, the source code is executed line-by-line by an interpreter at runtime.\n",
        "\n",
        "Execution: No separate compilation; the interpreter reads and runs the code directly.\n",
        "\n",
        "Examples: Python, JavaScript, Ruby, PHP\n",
        "\n",
        "Pros:\n",
        "\n",
        "Easier to debug and test since code runs immediately.\n",
        "\n",
        "Platform-independent (usually).\n",
        "\n",
        "Cons:\n",
        "\n",
        "Slower execution compared to compiled code because translation happens at runtime.\n",
        "\n",
        "Example workflow:\n",
        "\n",
        "Source Code (hello.py) --> Interpreter reads & executes --> Output\n",
        "\n",
        "\n",
        "| Feature         | Compiled Language | Interpreted Language |\n",
        "| --------------- | ----------------- | -------------------- |\n",
        "| Translation     | Before execution  | During execution     |\n",
        "| Execution speed | Fast              | Slower               |\n",
        "| Error detection | At compile time   | At runtime           |\n",
        "| Examples        | C, C++, Rust      | Python, JavaScript   |\n",
        "\n",
        "Some languages are hybrid. For example, Java is compiled to bytecode, which is then interpreted or JIT-compiled by the JVM. Python also uses bytecode which is interpreted by the Python Virtual Machine.\n"
      ],
      "metadata": {
        "id": "HoavvedLKGc7"
      }
    },
    {
      "cell_type": "markdown",
      "source": [
        "Q2) What is exception handling in Python"
      ],
      "metadata": {
        "id": "qi5YO2PwAbQm"
      }
    },
    {
      "cell_type": "markdown",
      "source": [
        "\n",
        "Exception handling in Python is a way to respond to runtime errors (exceptions) in a controlled manner so that your program does not crash unexpectedly. It allows you to detect errors, take corrective actions, or display meaningful messages.\n",
        "\n",
        "Key Concepts\n",
        "\n",
        "Exception: An error that occurs during program execution. Examples:\n",
        "\n",
        "Division by zero: 10 / 0\n",
        "\n",
        "Accessing a non-existent key in a dictionary\n",
        "\n",
        "Reading a file that doesn’t exist\n",
        "\n",
        "Handling Exceptions: Done using the try-except block.\n",
        "\n",
        "Basic Syntax\n",
        "try:\n",
        "    # Code that may cause an exception\n",
        "    num = int(input(\"Enter a number: \"))\n",
        "    result = 10 / num\n",
        "    print(\"Result:\", result)\n",
        "except ZeroDivisionError:\n",
        "    # Handles division by zero\n",
        "    print(\"Error: Cannot divide by zero!\")\n",
        "except ValueError:\n",
        "    # Handles invalid input (non-integer)\n",
        "    print(\"Error: Invalid input! Please enter a number.\")\n",
        "\n",
        "\n",
        "Explanation:\n",
        "\n",
        "try: Code that may raise an exception goes here.\n",
        "\n",
        "except: Code to handle the exception goes here. You can specify the type of exception.\n",
        "\n",
        "You can have multiple except blocks for different exception types.\n",
        "\n",
        "except Exception: can catch any exception if the type is unknown.\n",
        "\n",
        "Optional Blocks\n",
        "\n",
        "else block – runs if no exception occurs:\n",
        "\n",
        "try:\n",
        "    print(\"10 / 2 =\", 10 / 2)\n",
        "except ZeroDivisionError:\n",
        "    print(\"Error!\")\n",
        "else:\n",
        "    print(\"No errors occurred!\")\n",
        "\n",
        "\n",
        "finally block – always runs, regardless of exceptions (useful for cleanup):\n",
        "\n",
        "try:\n",
        "    file = open(\"data.txt\", \"r\")\n",
        "except FileNotFoundError:\n",
        "    print(\"File not found!\")\n",
        "finally:\n",
        "    print(\"Execution finished!\")\n",
        "\n",
        "\n",
        "Exception handling lets your program continue running safely instead of crashing, and provides a way to respond to errors gracefully."
      ],
      "metadata": {
        "id": "eRahnBQEKmGf"
      }
    },
    {
      "cell_type": "markdown",
      "source": [
        "Q3) What is the purpose of the finally block in exception handling ?"
      ],
      "metadata": {
        "id": "K4e54QEXAlS0"
      }
    },
    {
      "cell_type": "markdown",
      "source": [
        "In Python, the finally block is used in exception handling to define code that must be executed no matter what, whether an exception occurs or not. Its main purpose is to perform cleanup actions such as closing files, releasing resources, or restoring states.\n",
        "\n",
        "Key Points about finally\n",
        "\n",
        "Always Executes: The code inside finally runs regardless of whether an exception was raised or caught.\n",
        "\n",
        "Optional in try Blocks: You don’t have to use finally, but it is helpful for guaranteed cleanup.\n",
        "\n",
        "Common Use Cases: Closing files, releasing locks, closing network connections, or freeing resources.\n",
        "\n",
        "Syntax Example\n",
        "try:\n",
        "    file = open(\"data.txt\", \"r\")\n",
        "    content = file.read()\n",
        "    print(content)\n",
        "except FileNotFoundError:\n",
        "    print(\"File not found!\")\n",
        "finally:\n",
        "    # This code runs no matter what\n",
        "    print(\"Closing the file.\")\n",
        "    file.close()\n",
        "\n",
        "\n",
        "Explanation:\n",
        "\n",
        "If data.txt exists, it reads and prints the content.\n",
        "\n",
        "If it does not exist, it prints \"File not found!\".\n",
        "\n",
        "Regardless of the outcome, the finally block ensures the file is closed properly.\n",
        "\n",
        "Summary\n",
        "\n",
        "Purpose: Guarantee that cleanup or important final actions occur.\n",
        "\n",
        "Always runs: Even if exceptions occur, are caught, or if there is a return statement in the try or except block."
      ],
      "metadata": {
        "id": "y1T2A_SlK6gh"
      }
    },
    {
      "cell_type": "markdown",
      "source": [
        "Q4)What is logging in Python?"
      ],
      "metadata": {
        "id": "W1EIhoAFAps9"
      }
    },
    {
      "cell_type": "markdown",
      "source": [
        "Logging in Python is the process of tracking events that happen when software runs. It allows developers to record messages about a program’s execution for debugging, monitoring, or auditing purposes instead of using print statements.\n",
        "\n",
        "Python provides a built-in module called logging for this purpose.\n",
        "\n",
        "Key Concepts\n",
        "\n",
        "Logger – The main object used to record messages.\n",
        "\n",
        "Log Levels – Indicate the severity of the messages:\n",
        "\n",
        "DEBUG → Detailed information, useful for diagnosing problems\n",
        "\n",
        "INFO → General information about program execution\n",
        "\n",
        "WARNING → Something unexpected, but the program continues\n",
        "\n",
        "ERROR → A more serious problem that caused part of the program to fail\n",
        "\n",
        "CRITICAL → A very serious error, possibly causing program termination\n",
        "\n",
        "Handlers – Decide where the log messages go (console, file, etc.).\n",
        "\n",
        "Formatters – Define the layout of log messages (time, level, message).\n",
        "\n",
        "Basic Example\n",
        "import logging\n",
        "\n",
        "# Configure logging\n",
        "logging.basicConfig(level=logging.INFO, format='%(levelname)s:%(message)s')\n",
        "\n",
        "logging.debug(\"This is a debug message\")    # Won't appear because level=INFO\n",
        "logging.info(\"Program started\")             # INFO level message\n",
        "logging.warning(\"This is a warning\")       # WARNING message\n",
        "logging.error(\"An error occurred\")         # ERROR message\n",
        "logging.critical(\"Critical issue!\")        # CRITICAL message\n",
        "\n",
        "\n",
        "Explanation:\n",
        "\n",
        "basicConfig sets up logging configuration (level, format, file, etc.).\n",
        "\n",
        "Messages below the set level are ignored.\n",
        "\n",
        "Unlike print, logging can easily be turned on/off or redirected to a file.\n",
        "\n",
        "Logging to a File\n",
        "import logging\n",
        "\n",
        "logging.basicConfig(filename='app.log', level=logging.DEBUG,\n",
        "                    format='%(asctime)s - %(levelname)s - %(message)s')\n",
        "\n",
        "logging.info(\"Application started\")\n",
        "logging.error(\"An error occurred\")\n",
        "\n",
        "\n",
        "This will save all logs to app.log with timestamps.\n",
        "\n",
        "Why Use Logging Instead of Print?\n",
        "\n",
        "Messages can be categorized by severity.\n",
        "\n",
        "Can be saved to files for later analysis.\n",
        "\n",
        "Can be configured to show only certain levels in production.\n",
        "\n",
        "Can be turned on/off without changing program logic."
      ],
      "metadata": {
        "id": "6P4zD4zGLJQG"
      }
    },
    {
      "cell_type": "markdown",
      "source": [
        "Q5)What is the significance of the __del__ method in Python ?"
      ],
      "metadata": {
        "id": "O-RrWUNZAyET"
      }
    },
    {
      "cell_type": "markdown",
      "source": [
        "In Python, the __del__ method (also called a destructor) is a special method that is called when an object is about to be destroyed—that is, when there are no more references to the object and it is about to be garbage collected.\n",
        "\n",
        "It allows you to perform cleanup actions such as closing files, releasing network connections, or freeing other resources that the object was using.\n",
        "\n",
        "Key Points about __del__\n",
        "\n",
        "Automatic Invocation: Python automatically calls __del__ when an object’s reference count drops to zero.\n",
        "\n",
        "Resource Cleanup: Useful for releasing external resources that aren’t managed by Python’s garbage collector.\n",
        "\n",
        "Not Guaranteed: The exact timing of __del__ execution is not guaranteed, especially in complex programs or when the interpreter exits.\n",
        "\n",
        "Syntax Example\n",
        "class MyClass:\n",
        "    def __init__(self, name):\n",
        "        self.name = name\n",
        "        print(f\"{self.name} object created.\")\n",
        "\n",
        "    def __del__(self):\n",
        "        print(f\"{self.name} object is being destroyed.\")\n",
        "\n",
        "Create an object\n",
        "obj = MyClass(\"Test\")\n",
        "\n",
        "Delete the object\n",
        "del obj\n",
        "\n",
        "Output:\n",
        "Test object created.\n",
        "Test object is being destroyed.\n",
        "\n",
        "\n",
        "Explanation:\n",
        "\n",
        "When del obj is called, the reference count of obj drops to zero.\n",
        "\n",
        "Python calls __del__ automatically before actually destroying the object.\n",
        "\n",
        "Important Notes\n",
        "\n",
        "__del__ is rarely needed in Python because the garbage collector automatically handles memory.\n",
        "\n",
        "It’s safer to use context managers (with statement) for resource cleanup instead of relying on __del__.\n",
        "\n",
        "\n",
        "The __del__ method is used to define cleanup behavior for an object before it is destroyed by Python’s garbage collector."
      ],
      "metadata": {
        "id": "9hSXFdCMLXDI"
      }
    },
    {
      "cell_type": "markdown",
      "source": [
        "Q6)What is the difference between import and from ... import in Python?"
      ],
      "metadata": {
        "id": "dS4ChbGtA3YE"
      }
    },
    {
      "cell_type": "markdown",
      "source": [
        "In Python, both import and from ... import are used to bring modules or specific components from modules into your code, but they behave differently. Here's a clear explanation:\n",
        "\n",
        "1. import Statement\n",
        "\n",
        "Syntax:\n",
        "\n",
        "import module_name\n",
        "\n",
        "\n",
        "What it does:\n",
        "Imports the entire module. To access functions, classes, or variables from the module, you need to prefix them with the module name.\n",
        "\n",
        "Example:\n",
        "\n",
        "import math\n",
        "\n",
        "print(math.sqrt(16))  # Access sqrt() using module name\n",
        "\n",
        "\n",
        "Notes:\n",
        "\n",
        "Keeps the module’s namespace separate.\n",
        "\n",
        "Avoids name conflicts with your own variables.\n",
        "\n",
        "2. from ... import Statement\n",
        "\n",
        "Syntax:\n",
        "\n",
        "from module_name import function_name, ClassName\n",
        "\n",
        "\n",
        "What it does:\n",
        "Imports specific functions, classes, or variables from a module directly into your namespace. You can use them without the module prefix.\n",
        "\n",
        "Example:\n",
        "\n",
        "from math import sqrt, pi\n",
        "\n",
        "print(sqrt(25))  # No need for math.sqrt\n",
        "print(pi)        # No need for math.pi\n",
        "\n",
        "\n",
        "Notes:\n",
        "\n",
        "Only imports the specified items.\n",
        "\n",
        "Can reduce typing and improve readability.\n",
        "\n",
        "Risk of name conflicts if the imported name clashes with your variable names.\n",
        "\n",
        "3. Import Everything (Not Recommended)\n",
        "from math import *\n",
        "\n",
        "\n",
        "Imports all public functions and variables from the module directly into your namespace.\n",
        "\n",
        "Risk: May overwrite existing variables and make debugging harder.\n",
        "\n",
        "| Feature               | `import module`        | `from module import ...`   |\n",
        "| --------------------- | ---------------------- | -------------------------- |\n",
        "| What is imported      | Entire module          | Specific items only        |\n",
        "| Usage                 | `module.item`          | `item`                     |\n",
        "| Risk of name conflict | Low                    | Higher                     |\n",
        "| Recommended for       | Large modules, clarity | Specific functions/classes |\n",
        "\n",
        "\n",
        "Rule of thumb: Use import module when you want to keep namespaces clean, and from module import ... when you only need a few items and want simpler code."
      ],
      "metadata": {
        "id": "oB7XGf2LNV6Q"
      }
    },
    {
      "cell_type": "markdown",
      "source": [
        "Q7)How can you handle multiple exceptions in Python ?"
      ],
      "metadata": {
        "id": "yjl7-IFsBAZO"
      }
    },
    {
      "cell_type": "markdown",
      "source": [
        "In Python, you can handle multiple exceptions in a few different ways using the try-except block. This is useful when a block of code might raise different types of exceptions, and you want to handle each appropriately.\n",
        "\n",
        "1. Multiple except Blocks\n",
        "\n",
        "You can have separate except blocks for each exception type:\n",
        "\n",
        "try:\n",
        "    num = int(input(\"Enter a number: \"))\n",
        "    result = 10 / num\n",
        "except ZeroDivisionError:\n",
        "    print(\"Error: Cannot divide by zero!\")\n",
        "except ValueError:\n",
        "    print(\"Error: Invalid input! Please enter a number.\")\n",
        "\n",
        "\n",
        "Explanation:\n",
        "\n",
        "ZeroDivisionError is handled if division by zero occurs.\n",
        "\n",
        "ValueError is handled if the user enters something that isn’t an integer.\n",
        "\n",
        "2. Catching Multiple Exceptions in a Single Block\n",
        "\n",
        "You can handle multiple exceptions in one except block using a tuple:\n",
        "\n",
        "try:\n",
        "    num = int(input(\"Enter a number: \"))\n",
        "    result = 10 / num\n",
        "except (ZeroDivisionError, ValueError) as e:\n",
        "    print(f\"An error occurred: {e}\")\n",
        "\n",
        "\n",
        "Explanation:\n",
        "\n",
        "Both ZeroDivisionError and ValueError are caught by the same block.\n",
        "\n",
        "as e allows you to access the exception object for more details.\n",
        "\n",
        "3. Using a Generic Exception\n",
        "\n",
        "You can catch any exception using except Exception, but this is less precise:\n",
        "\n",
        "try:\n",
        "    num = int(input(\"Enter a number: \"))\n",
        "    result = 10 / num\n",
        "except Exception as e:\n",
        "    print(f\"Some error occurred: {e}\")\n",
        "\n",
        "\n",
        "Caution: Catching all exceptions can hide programming errors, so use it carefully.\n",
        "\n",
        "4. Optional else and finally Blocks\n",
        "\n",
        "else executes if no exception occurs.\n",
        "\n",
        "finally executes always, useful for cleanup.\n",
        "\n",
        "try:\n",
        "    num = int(input(\"Enter a number: \"))\n",
        "    result = 10 / num\n",
        "except (ZeroDivisionError, ValueError) as e:\n",
        "    print(f\"Error: {e}\")\n",
        "else:\n",
        "    print(f\"Result is {result}\")\n",
        "finally:\n",
        "    print(\"Execution finished.\")\n",
        "\n",
        "\n",
        "Multiple except blocks: Different handling for each exception.\n",
        "\n",
        "Tuple in one except: Handle multiple exceptions the same way.\n",
        "\n",
        "Generic Exception: Catch any error, less precise."
      ],
      "metadata": {
        "id": "4_QfE_2oNvLZ"
      }
    },
    {
      "cell_type": "markdown",
      "source": [
        "Q8)What is the purpose of the with statement when handling files in Python?"
      ],
      "metadata": {
        "id": "Do_ChvDxBIyL"
      }
    },
    {
      "cell_type": "markdown",
      "source": [
        "In Python, the with statement is used when working with files (or other resources) to ensure proper acquisition and release of resources. Its primary purpose is to automatically handle cleanup, such as closing the file, even if an error occurs while working with it.\n",
        "\n",
        "Key Points\n",
        "\n",
        "Automatic Resource Management:\n",
        "You don’t need to explicitly call file.close()—Python handles it for you.\n",
        "\n",
        "Exception Safety:\n",
        "The file is properly closed even if an exception occurs during file operations.\n",
        "\n",
        "Cleaner, More Readable Code:\n",
        "Reduces boilerplate code and the risk of forgetting to close the file.\n",
        "\n",
        "Syntax\n",
        "with open(\"example.txt\", \"w\") as file:\n",
        "    file.write(\"Hello, world!\")\n",
        "\n",
        "\n",
        "Explanation:\n",
        "\n",
        "open(\"example.txt\", \"w\") opens the file in write mode.\n",
        "\n",
        "as file assigns the file object to the variable file.\n",
        "\n",
        "After the with block ends, the file is automatically closed, even if an error occurs inside the block.\n",
        "\n",
        "Comparison Without with\n",
        "file = open(\"example.txt\", \"w\")\n",
        "try:\n",
        "    file.write(\"Hello, world!\")\n",
        "finally:\n",
        "    file.close()  # Must manually close the file\n",
        "\n",
        "\n",
        "Using with makes the code shorter and safer.\n",
        "\n",
        "Example with Reading a File\n",
        "with open(\"data.txt\", \"r\") as f:\n",
        "    content = f.read()\n",
        "    print(content)\n",
        "# File is automatically closed here\n",
        "\n",
        "The with statement is used for context management. When handling files, it ensures that the file is properly closed automatically, reduces errors, and makes your code cleaner and more Pythonic."
      ],
      "metadata": {
        "id": "hs48tUjLOAXG"
      }
    },
    {
      "cell_type": "markdown",
      "source": [
        "Q9) What is the difference between multithreading and multiprocessing?"
      ],
      "metadata": {
        "id": "vvQBEYOKBPzv"
      }
    },
    {
      "cell_type": "markdown",
      "source": [
        "The difference between multithreading and multiprocessing in Python (and in general programming) lies in how they achieve concurrent execution and how they utilize system resources like CPU and memory. Here's a detailed breakdown:\n",
        "\n",
        "1. Multithreading\n",
        "\n",
        "Definition:\n",
        "Multiple threads run within the same process, sharing the same memory space. Threads are lightweight and are useful for tasks that involve I/O operations (e.g., file reading/writing, network requests).\n",
        "\n",
        "Key Points:\n",
        "\n",
        "Threads share the same memory space.\n",
        "\n",
        "Efficient for I/O-bound tasks.\n",
        "\n",
        "Python’s GIL (Global Interpreter Lock) prevents multiple threads from executing Python bytecode in parallel, so CPU-bound tasks don’t speed up much in CPython.\n",
        "\n",
        "Less memory overhead compared to processes.\n",
        "\n",
        "Example Use Case:\n",
        "Downloading multiple files from the internet simultaneously.\n",
        "\n",
        "Python Example:\n",
        "\n",
        "import threading\n",
        "\n",
        "def print_numbers():\n",
        "    for i in range(5):\n",
        "        print(i)\n",
        "\n",
        "thread = threading.Thread(target=print_numbers)\n",
        "thread.start()\n",
        "thread.join()\n",
        "\n",
        "2. Multiprocessing\n",
        "\n",
        "Definition:\n",
        "Multiple processes run in separate memory spaces, each with its own Python interpreter. This allows true parallel execution on multiple CPU cores.\n",
        "\n",
        "Key Points:\n",
        "\n",
        "Processes have separate memory; no shared data unless using special objects.\n",
        "\n",
        "Efficient for CPU-bound tasks (e.g., heavy computations).\n",
        "\n",
        "Higher memory usage compared to threads.\n",
        "\n",
        "No GIL limitation since each process has its own Python interpreter.\n",
        "\n",
        "Example Use Case:\n",
        "Performing heavy numerical computations or image processing in parallel.\n",
        "\n",
        "Python Example:\n",
        "\n",
        "from multiprocessing import Process\n",
        "\n",
        "def print_numbers():\n",
        "    for i in range(5):\n",
        "        print(i)\n",
        "\n",
        "process = Process(target=print_numbers)\n",
        "process.start()\n",
        "process.join()\n",
        "\n",
        "\n",
        "| Feature           | Multithreading         | Multiprocessing                     |\n",
        "| ----------------- | ---------------------- | ----------------------------------- |\n",
        "| Memory            | Shared among threads   | Separate for each process           |\n",
        "| CPU-bound tasks   | Limited due to GIL     | True parallelism possible           |\n",
        "| I/O-bound tasks   | Efficient              | Less efficient                      |\n",
        "| Creation overhead | Low                    | High                                |\n",
        "| Communication     | Simple (shared memory) | Needs IPC (queues, pipes, managers) |\n",
        "\n",
        "\n",
        "Use multithreading for I/O-bound tasks.\n",
        "\n",
        "Use multiprocessing for CPU-bound tasks requiring true parallelism."
      ],
      "metadata": {
        "id": "O5BjWykNOSii"
      }
    },
    {
      "cell_type": "markdown",
      "source": [
        "Q10)What are the advantages of using logging in a program?"
      ],
      "metadata": {
        "id": "X3pA56P7BTZ8"
      }
    },
    {
      "cell_type": "markdown",
      "source": [
        "Using logging in a program offers several advantages over simple print statements. Here’s a clear breakdown:\n",
        "\n",
        "1.** Better Debugging and Monitoring**\n",
        "\n",
        "Logging allows you to record runtime events, which helps track down errors or unexpected behavior in a program.\n",
        "\n",
        "You can log detailed information such as timestamps, function names, and variable values.\n",
        "\n",
        "logging.debug(\"Variable x has value: %d\", x)\n",
        "\n",
        "2. **Different Severity Levels**\n",
        "\n",
        "Logging provides levels like DEBUG, INFO, WARNING, ERROR, and CRITICAL.\n",
        "\n",
        "You can filter logs based on severity, which is useful for both development and production environments.\n",
        "\n",
        "logging.warning(\"This might cause issues\")\n",
        "logging.error(\"An error occurred\")\n",
        "\n",
        "3. **Persistence of Logs**\n",
        "\n",
        "Logs can be written to files instead of just printing to the console.\n",
        "\n",
        "This allows you to review program behavior later, which is especially useful for long-running or production programs.\n",
        "\n",
        "logging.basicConfig(filename=\"app.log\", level=logging.INFO)\n",
        "\n",
        "4. **Configurable Output**\n",
        "\n",
        "You can customize the format of log messages (time, severity, module, message).\n",
        "\n",
        "You can also send logs to multiple destinations, such as files, console, or remote servers.\n",
        "\n",
        "logging.basicConfig(format='%(asctime)s - %(levelname)s - %(message)s')\n",
        "\n",
        "5. **Reduces Debugging Overhead**\n",
        "**bold text**\n",
        "Unlike print statements, logging can be easily turned on/off or redirected without changing the program logic.\n",
        "\n",
        "This makes your code cleaner and easier to maintain.\n",
        "\n",
        "logging.disable(logging.CRITICAL)  # Temporarily suppress logs\n",
        "\n",
        "6. **Supports Production Environments**\n",
        "\n",
        "In production, printing to the console is impractical.\n",
        "\n",
        "Logging allows safe monitoring of errors and application behavior without interrupting the program.\n",
        "\n",
        "** Advantages**\n",
        "\n",
        "Easier debugging and monitoring of program flow\n",
        "\n",
        "Categorization by severity levels\n",
        "\n",
        "Persistent logs for later analysis\n",
        "\n",
        "Configurable formats and destinations\n",
        "\n",
        "Cleaner and maintainable code compared to print statements\n",
        "\n",
        "Suitable for both development and production environments"
      ],
      "metadata": {
        "id": "ZJg84d-sOxX4"
      }
    },
    {
      "cell_type": "markdown",
      "source": [],
      "metadata": {
        "id": "6yCFmdXwOoXG"
      }
    },
    {
      "cell_type": "markdown",
      "source": [
        "Q11)What is memory management in Python?"
      ],
      "metadata": {
        "id": "7IGoA4E-BZ0T"
      }
    },
    {
      "cell_type": "markdown",
      "source": [
        "\n",
        "\n",
        "Memory management in Python is the process by which Python allocates, tracks, and frees memory used by objects during program execution. Python handles most of this automatically, so developers don’t usually need to manage memory manually.\n",
        "\n",
        "Key Points\n",
        "\n",
        "Automatic Memory Allocation\n",
        "\n",
        "When you create an object (like a list, dictionary, or string), Python automatically allocates memory for it.\n",
        "\n",
        "Reference Counting\n",
        "\n",
        "Every object has a reference count, which tracks how many variables or objects refer to it.\n",
        "\n",
        "When the reference count drops to zero, the object is no longer accessible and can be deleted.\n",
        "\n",
        "a = [1, 2, 3]\n",
        "b = a      # reference count increases\n",
        "del a      # reference count decreases\n",
        "del b      # reference count becomes 0 → memory is freed\n",
        "\n",
        "\n",
        "Garbage Collection\n",
        "\n",
        "Python automatically detects and removes unused objects and circular references using its garbage collector (gc module).\n",
        "\n",
        "import gc\n",
        "gc.collect()  # manually trigger garbage collection\n",
        "\n",
        "\n",
        "Memory Pools\n",
        "\n",
        "Python uses memory pools for small objects to optimize performance, reducing the overhead of frequent allocation/deallocation.\n",
        "\n",
        "Dynamic Typing\n",
        "\n",
        "Python’s memory management supports dynamic typing, so objects can grow or shrink as needed (e.g., lists or dictionaries).\n",
        "\n",
        "Summary\n",
        "\n",
        "Python automatically allocates and frees memory for objects.\n",
        "\n",
        "Reference counting ensures objects are deleted when no longer used.\n",
        "\n",
        "Garbage collection handles circular references.\n",
        "\n",
        "Efficient memory pooling improves performance.\n",
        "\n",
        " Even though Python handles memory automatically, it’s good practice to release resources properly (like files or network connections) to avoid memory leaks."
      ],
      "metadata": {
        "id": "ane1JPmEPhJq"
      }
    },
    {
      "cell_type": "markdown",
      "source": [
        "Q12) What are the basic steps involved in exception handling in Python?"
      ],
      "metadata": {
        "id": "JyDH_En5Bf8F"
      }
    },
    {
      "cell_type": "markdown",
      "source": [
        "In Python, exception handling is a way to handle errors that may occur during program execution. The basic steps involve using a try-except block, and optionally else and finally blocks. Here’s a detailed explanation:\n",
        "\n",
        "1. Identify the Code That May Cause an Exception\n",
        "\n",
        "Place the code that might raise an exception inside a try block.\n",
        "\n",
        "try:\n",
        "    num = int(input(\"Enter a number: \"))\n",
        "    result = 10 / num\n",
        "\n",
        "2. Handle the Exception\n",
        "\n",
        "Use except blocks to handle specific exceptions that may occur.\n",
        "\n",
        "You can have multiple except blocks for different types of exceptions.\n",
        "\n",
        "except ZeroDivisionError:\n",
        "    print(\"Error: Cannot divide by zero!\")\n",
        "except ValueError:\n",
        "    print(\"Error: Invalid input! Please enter a number.\")\n",
        "\n",
        "3. Optional: Execute Code If No Exception Occurs\n",
        "\n",
        "The else block runs if no exception was raised in the try block.\n",
        "\n",
        "else:\n",
        "    print(f\"Result is {result}\")\n",
        "\n",
        "4. Optional: Cleanup Code\n",
        "\n",
        "The finally block always runs, whether an exception occurred or not.\n",
        "\n",
        "It’s used for cleanup tasks like closing files or releasing resources.\n",
        "\n",
        "finally:\n",
        "    print(\"Execution finished.\")\n",
        "\n",
        "Full Example\n",
        "try:\n",
        "    num = int(input(\"Enter a number: \"))\n",
        "    result = 10 / num\n",
        "except ZeroDivisionError:\n",
        "    print(\"Error: Cannot divide by zero!\")\n",
        "except ValueError:\n",
        "    print(\"Error: Invalid input! Please enter a number.\")\n",
        "else:\n",
        "    print(f\"Result is {result}\")\n",
        "finally:\n",
        "    print(\"Execution finished.\")\n",
        "\n",
        "Summary of Steps\n",
        "\n",
        "try: Code that may raise an exception.\n",
        "\n",
        "except: Handle specific exceptions.\n",
        "\n",
        "else (optional): Run code if no exception occurs.\n",
        "\n",
        "finally (optional): Run cleanup code regardless of exceptions."
      ],
      "metadata": {
        "id": "I6Q8JaXCP3xO"
      }
    },
    {
      "cell_type": "markdown",
      "source": [
        "Q13)Why is memory management important in Python?"
      ],
      "metadata": {
        "id": "zMHOpp96BpyC"
      }
    },
    {
      "cell_type": "markdown",
      "source": [
        "Memory management is important in Python because it ensures that your program uses system resources efficiently, avoids errors, and runs reliably. Even though Python handles memory automatically, understanding its significance helps in writing better programs.\n",
        "\n",
        "Key Reasons Why Memory Management is Important\n",
        "\n",
        "Efficient Resource Usage\n",
        "\n",
        "Proper memory management prevents wasting memory on objects that are no longer needed.\n",
        "\n",
        "Frees up memory for other processes or new objects.\n",
        "\n",
        "Prevents Memory Leaks\n",
        "\n",
        "A memory leak occurs when memory is allocated but never released.\n",
        "\n",
        "Python’s garbage collector and reference counting help prevent such leaks, especially in long-running programs.\n",
        "\n",
        "Improves Program Performance\n",
        "\n",
        "Efficient memory usage allows Python programs to run faster and handle larger data without slowing down.\n",
        "\n",
        "Supports Large Applications\n",
        "\n",
        "Applications that handle big data or perform complex computations require effective memory management to avoid crashes.\n",
        "\n",
        "Automatic Cleanup\n",
        "\n",
        "Python’s garbage collector automatically deletes objects that are no longer in use, reducing the programmer’s burden.\n",
        "\n",
        "Stability and Reliability\n",
        "\n",
        "Programs that manage memory well are less likely to crash due to out-of-memory errors or dangling references.\n",
        "\n",
        "Memory management is crucial to ensure that Python programs are:\n",
        "\n",
        "Efficient (optimal use of RAM)\n",
        "\n",
        "Reliable (less prone to crashes)\n",
        "\n",
        "Scalable (can handle large or long-running tasks)\n",
        "\n",
        " Even with automatic memory management, it’s good practice to release resources explicitly when possible (e.g., using with for files) to keep memory usage optimal."
      ],
      "metadata": {
        "id": "63w1Bz6AQpzp"
      }
    },
    {
      "cell_type": "markdown",
      "source": [
        "Q14) What is the role of try and except in exception handling ?"
      ],
      "metadata": {
        "id": "KM6wmOs1Bwuc"
      }
    },
    {
      "cell_type": "markdown",
      "source": [
        "In Python, try and except are the core components of exception handling, used to detect and handle runtime errors gracefully without crashing the program.\n",
        "\n",
        "1. try Block\n",
        "\n",
        "Role: Contains the code that might raise an exception.\n",
        "\n",
        "Python executes the code inside try. If no exception occurs, the except block is skipped.\n",
        "\n",
        "If an exception occurs, Python immediately stops executing the try block and looks for a matching except block.\n",
        "\n",
        "Example:\n",
        "\n",
        "try:\n",
        "    num = int(input(\"Enter a number: \"))\n",
        "    result = 10 / num\n",
        "\n",
        "\n",
        "Here, both converting input to an integer and division could raise exceptions (ValueError or ZeroDivisionError).\n",
        "\n",
        "2. except Block\n",
        "\n",
        "Role: Catches and handles exceptions that occur in the try block.\n",
        "\n",
        "You can specify the type of exception to handle or catch all exceptions using a generic except.\n",
        "\n",
        "Allows the program to continue running instead of crashing.\n",
        "\n",
        "Example:\n",
        "\n",
        "except ZeroDivisionError:\n",
        "    print(\"Error: Cannot divide by zero!\")\n",
        "except ValueError:\n",
        "    print(\"Error: Invalid input! Please enter a number.\")\n",
        "\n",
        "\n",
        "Each except block handles a specific type of exception.\n",
        "\n",
        "Optionally, you can use as e to access the exception object:\n",
        "\n",
        "except Exception as e:\n",
        "    print(f\"An error occurred: {e}\")\n",
        "\n",
        "\n",
        "    | Component | Role                                            |\n",
        "| --------- | ----------------------------------------------- |\n",
        "| `try`     | Contains code that may raise exceptions         |\n",
        "| `except`  | Handles the exceptions to prevent program crash |\n",
        "\n",
        "\n",
        "The try block is for “risky” code that might fail.\n",
        "\n",
        "The except block defines how the program should respond if an error occurs.\n",
        "\n",
        "This combination ensures that Python programs can handle errors gracefully instead of terminating abruptly."
      ],
      "metadata": {
        "id": "azTIZ-FvQ_ba"
      }
    },
    {
      "cell_type": "markdown",
      "source": [
        "Q15) How does Python's garbage collection system work?"
      ],
      "metadata": {
        "id": "tVfqrekrB3et"
      }
    },
    {
      "cell_type": "markdown",
      "source": [
        "Python’s garbage collection (GC) system is responsible for automatically managing memory, i.e., reclaiming memory occupied by objects that are no longer in use. It combines reference counting with a cycle-detecting garbage collector to handle complex cases. Here’s a detailed explanation:\n",
        "\n",
        "1. **Reference Counting**\n",
        "\n",
        "Every Python object keeps track of the number of references pointing to it.\n",
        "\n",
        "When the reference count drops to zero, the object is no longer accessible and can be deleted.\n",
        "\n",
        "a = [1, 2, 3]\n",
        "b = a      # reference count increases\n",
        "del a      # reference count decreases\n",
        "del b      # reference count becomes 0 → object is garbage collected\n",
        "\n",
        "\n",
        "Limitation: Reference counting alone cannot handle circular references (objects referencing each other).\n",
        "\n",
        "2. Generational Garbage Collection\n",
        "\n",
        "To handle circular references, Python uses a cyclic garbage collector.\n",
        "\n",
        "Python categorizes objects into three generations:\n",
        "\n",
        "Generation 0 – Newly created objects\n",
        "\n",
        "Generation 1 – Survived one garbage collection\n",
        "\n",
        "Generation 2 – Survived multiple garbage collections\n",
        "\n",
        "Objects in older generations are collected less frequently, which improves performance.\n",
        "\n",
        "3. How GC Works\n",
        "\n",
        "The garbage collector periodically checks for unreachable objects (those that cannot be accessed by any references).\n",
        "\n",
        "If objects are part of a reference cycle and are unreachable, GC frees their memory.\n",
        "\n",
        "The gc module allows you to interact with the garbage collector:\n",
        "\n",
        "import gc\n",
        "\n",
        "gc.collect()  # Force garbage collection\n",
        "\n",
        "\n",
        "You can also inspect objects that are tracked by the garbage collector.\n",
        "\n",
        "4. Manual Resource Cleanup\n",
        "\n",
        "For non-memory resources (like files or network connections), use with statements or explicit cleanup.\n",
        "\n",
        "Garbage collection only handles memory; it does not automatically release system resources.\n",
        "\n",
        "Summary\n",
        "\n",
        "Reference Counting: Deletes objects when reference count is zero.\n",
        "\n",
        "Cycle Detector: Handles circular references that reference counting cannot.\n",
        "\n",
        "Generations: Objects are organized in generations to optimize collection frequency.\n",
        "\n",
        "gc Module: Provides tools for manual inspection and collection.\n",
        "\n",
        "Python’s garbage collection allows programmers to focus on logic rather than manual memory management, but understanding it helps prevent memory leaks and optimize performance."
      ],
      "metadata": {
        "id": "4TqXLPzfRXLv"
      }
    },
    {
      "cell_type": "markdown",
      "source": [
        "Q16)What is the purpose of the else block in exception handling?"
      ],
      "metadata": {
        "id": "tXzAC3_cB9pK"
      }
    },
    {
      "cell_type": "markdown",
      "source": [
        "In Python, the else block in exception handling is an optional block that runs only if no exception occurs in the try block. Its main purpose is to separate the code that should execute when everything goes smoothly from the code that handles exceptions, making your code cleaner and more readable.\n",
        "\n",
        "Key Points\n",
        "\n",
        "Runs Only on Success\n",
        "\n",
        "The else block executes only if the try block does not raise any exceptions.\n",
        "\n",
        "If an exception occurs, Python skips the else block and executes the appropriate except block instead.\n",
        "\n",
        "Improves Code Clarity\n",
        "\n",
        "Keeps the “normal execution” code separate from exception-handling code.\n",
        "\n",
        "Optional\n",
        "\n",
        "You do not need to include an else block; it is only used when you want to distinguish successful execution from error handling.\n",
        "\n",
        "Syntax Example\n",
        "try:\n",
        "    num = int(input(\"Enter a number: \"))\n",
        "    result = 10 / num\n",
        "except ZeroDivisionError:\n",
        "    print(\"Error: Cannot divide by zero!\")\n",
        "except ValueError:\n",
        "    print(\"Error: Invalid input! Please enter a number.\")\n",
        "else:\n",
        "    # Runs only if no exception occurred\n",
        "    print(f\"Result is {result}\")\n",
        "finally:\n",
        "    print(\"Execution finished.\")\n",
        "\n",
        "\n",
        "Explanation:\n",
        "\n",
        "If the user enters a valid, non-zero number, the else block prints the result.\n",
        "\n",
        "If an exception occurs (like division by zero or invalid input), the else block is skipped.\n",
        "\n",
        "\n",
        "| Block     | Purpose                                       |\n",
        "| --------- | --------------------------------------------- |\n",
        "| `try`     | Code that might raise exceptions              |\n",
        "| `except`  | Handle exceptions if they occur               |\n",
        "| `else`    | Run code **only if no exception occurred**    |\n",
        "| `finally` | Run code **always**, regardless of exceptions |\n",
        "\n",
        "\n",
        "Use the else block to place code that should execute only when the try block succeeds, keeping your exception-handling logic clean and separate from normal execution."
      ],
      "metadata": {
        "id": "i3alMNYnR63r"
      }
    },
    {
      "cell_type": "markdown",
      "source": [
        "Q17)What are the common logging levels in Python?"
      ],
      "metadata": {
        "id": "6pk6M678CFp3"
      }
    },
    {
      "cell_type": "markdown",
      "source": [
        "In Python, the logging module defines several standard logging levels to indicate the severity of events or messages in a program. These levels allow you to filter and categorize logs effectively.\n",
        "\n",
        "\n",
        "\n",
        "\n",
        "| Level      | Numeric Value | Description                                                                          |\n",
        "| ---------- | ------------- | ------------------------------------------------------------------------------------ |\n",
        "| `DEBUG`    | 10            | Detailed information, typically useful for diagnosing problems.                      |\n",
        "| `INFO`     | 20            | General information about program execution.                                         |\n",
        "| `WARNING`  | 30            | Indicates a potential problem or unexpected situation, but the program can continue. |\n",
        "| `ERROR`    | 40            | A serious problem that caused part of the program to fail.                           |\n",
        "| `CRITICAL` | 50            | A very serious error that may prevent the program from continuing.                   |\n",
        "\n",
        "Example Usage\n",
        "import logging\n",
        "\n",
        "logging.basicConfig(level=logging.DEBUG, format='%(levelname)s: %(message)s')\n",
        "\n",
        "logging.debug(\"This is a debug message\")\n",
        "logging.info(\"Program started\")\n",
        "logging.warning(\"This is a warning\")\n",
        "logging.error(\"An error occurred\")\n",
        "logging.critical(\"Critical issue!\")\n",
        "\n",
        "\n",
        "Explanation:\n",
        "\n",
        "level=logging.DEBUG ensures all messages of level DEBUG and above are displayed.\n",
        "\n",
        "Each level indicates the severity of the log, making it easier to monitor and troubleshoot programs.\n"
      ],
      "metadata": {
        "id": "_Eaiy1tCSc2F"
      }
    },
    {
      "cell_type": "markdown",
      "source": [
        "Q18)What is the difference between os.fork() and multiprocessing in Python ?"
      ],
      "metadata": {
        "id": "XViOGUtmCKgv"
      }
    },
    {
      "cell_type": "markdown",
      "source": [
        "The difference between os.fork() and multiprocessing in Python lies in how new processes are created, managed, and how they interact with Python programs. Here’s a detailed comparison:\n",
        "\n",
        "1. os.fork()\n",
        "\n",
        "Definition:\n",
        "os.fork() is a low-level system call available on Unix/Linux systems that creates a new child process by duplicating the current process.\n",
        "\n",
        "Key Points:\n",
        "\n",
        "The child process is a copy of the parent process.\n",
        "\n",
        "Both parent and child share the same code but have separate memory spaces.\n",
        "\n",
        "Returns 0 in the child process and the child PID in the parent process.\n",
        "\n",
        "Only works on Unix-like systems (not available on Windows).\n",
        "\n",
        "Example:\n",
        "\n",
        "import os\n",
        "\n",
        "pid = os.fork()\n",
        "\n",
        "if pid == 0:\n",
        "    print(\"This is the child process\")\n",
        "else:\n",
        "    print(f\"This is the parent process, child PID: {pid}\")\n",
        "\n",
        "\n",
        "Use Cases:\n",
        "Low-level process creation, system-level programming, or when you need fine-grained control over processes.\n",
        "\n",
        "2. multiprocessing Module\n",
        "\n",
        "Definition:\n",
        "multiprocessing is a high-level Python module for creating and managing process-based parallelism.\n",
        "\n",
        "Key Points:\n",
        "\n",
        "Works on both Unix and Windows.\n",
        "\n",
        "Provides Process class, pools, queues, pipes, and shared memory.\n",
        "\n",
        "Easier and safer to use than os.fork() for parallel tasks.\n",
        "\n",
        "Handles process creation and inter-process communication in a Pythonic way.\n",
        "\n",
        "Example:\n",
        "\n",
        "from multiprocessing import Process\n",
        "\n",
        "def task():\n",
        "    print(\"This runs in a separate process\")\n",
        "\n",
        "p = Process(target=task)\n",
        "p.start()\n",
        "p.join()\n",
        "\n",
        "\n",
        "Use Cases:\n",
        "CPU-bound parallel tasks, parallel data processing, and cross-platform programs.\n",
        "\n",
        "Comparison Table\n",
        "Feature\tos.fork()\tmultiprocessing\n",
        "Platform\tUnix/Linux only\tCross-platform (Unix + Windows)\n",
        "Level\tLow-level system call\tHigh-level Python API\n",
        "Ease of use\tComplex\tEasy to use\n",
        "Memory sharing\tSeparate memory\tSeparate memory (with shared memory support)\n",
        "IPC (Inter-process communication)\tManual (pipes, etc.)\tBuilt-in support (Queue, Pipe, Manager)\n",
        "Pythonic interface\tNo\n",
        "\n",
        "\n",
        "| Feature                           | `os.fork()`           | `multiprocessing`                            |\n",
        "| --------------------------------- | --------------------- | -------------------------------------------- |\n",
        "| Platform                          | Unix/Linux only       | Cross-platform (Unix + Windows)              |\n",
        "| Level                             | Low-level system call | High-level Python API                        |\n",
        "| Ease of use                       | Complex               | Easy to use                                  |\n",
        "| Memory sharing                    | Separate memory       | Separate memory (with shared memory support) |\n",
        "| IPC (Inter-process communication) | Manual (pipes, etc.)  | Built-in support (Queue, Pipe, Manager)      |\n",
        "| Pythonic interface                | No                    | Yes  Summary\n",
        "\n",
        "Use os.fork() for low-level, Unix-specific process creation where you need fine-grained control.\n",
        "\n",
        "Use multiprocessing for cross-platform, Python-friendly process management with built-in tools for communication and synchronization.                                        |\n"
      ],
      "metadata": {
        "id": "3HzRireGTdDA"
      }
    },
    {
      "cell_type": "markdown",
      "source": [
        "Q19)What is the importance of closing a file in Python?"
      ],
      "metadata": {
        "id": "DcocBJbSCWlR"
      }
    },
    {
      "cell_type": "markdown",
      "source": [
        "Closing a file in Python is very important because it ensures that all resources used by the file are properly released and that data is safely written to disk. Here’s a detailed explanation:\n",
        "\n",
        "1. Flushes Data to Disk\n",
        "\n",
        "When writing to a file, Python buffers the data in memory before actually writing it to disk.\n",
        "\n",
        "Calling file.close() flushes the buffer, ensuring that all data is saved.\n",
        "\n",
        "file = open(\"example.txt\", \"w\")\n",
        "file.write(\"Hello, world!\")\n",
        "file.close()  # Ensures data is actually written\n",
        "\n",
        "2. Releases System Resources\n",
        "\n",
        "Every open file consumes system resources (file descriptors).\n",
        "\n",
        "Not closing files can lead to resource leaks, which may crash programs or limit the number of files that can be opened.\n",
        "\n",
        "3. Avoids Data Corruption\n",
        "\n",
        "If a program terminates unexpectedly or a file is not closed, data may be lost or corrupted.\n",
        "\n",
        "Properly closing files ensures the file integrity is maintained.\n",
        "\n",
        "4. Ensures Proper Behavior Across Platforms\n",
        "\n",
        "On some operating systems, files remain locked until closed, which can prevent other programs from accessing them.\n",
        "\n",
        "Closing the file releases the lock and makes it available for other processes.\n",
        "\n",
        "5. Using with Statement (Recommended)\n",
        "\n",
        "Python provides a context manager (with statement) to handle files automatically.\n",
        "\n",
        "It ensures that files are closed properly, even if an exception occurs.\n",
        "\n",
        "with open(\"example.txt\", \"w\") as file:\n",
        "    file.write(\"Hello, world!\")\n",
        "# File is automatically closed here\n",
        "\n",
        "Summary\n",
        "\n",
        "Flushes buffered data to disk\n",
        "\n",
        "Releases system resources\n",
        "\n",
        "Prevents data corruption\n",
        "\n",
        "Ensures cross-platform consistency\n",
        "\n",
        "Best Practice: Always close files manually with close() or use a with statement to handle files safely and efficiently."
      ],
      "metadata": {
        "id": "O5RRCEN_UBR-"
      }
    },
    {
      "cell_type": "markdown",
      "source": [
        "Q20)What is the difference between file.read() and file.readline() in Python?"
      ],
      "metadata": {
        "id": "dfJFRZ9cCZw5"
      }
    },
    {
      "cell_type": "markdown",
      "source": [
        "In Python, both file.read() and file.readline() are used to read data from a file, but they behave differently. Here's a detailed comparison:\n",
        "\n",
        "file.read()\n",
        "\n",
        "Purpose: Reads the entire content of the file (or a specified number of bytes).\n",
        "\n",
        "Usage:\n",
        "\n",
        "with open(\"example.txt\", \"r\") as file:\n",
        "    content = file.read()  # Reads the whole file\n",
        "    print(content)\n",
        "\n",
        "\n",
        "Optional argument: You can pass a number to read(n) to read only the first n characters.\n",
        "\n",
        "content = file.read(10)  # Reads first 10 characters\n",
        "\n",
        "\n",
        "Behavior:\n",
        "\n",
        "Reads all data at once.\n",
        "\n",
        "Returns a string containing the content.\n",
        "\n",
        "If the file is large, it may consume a lot of memory.\n",
        "\n",
        "2. file.readline()\n",
        "\n",
        "Purpose: Reads the file line by line, returning one line at a time.\n",
        "\n",
        "Usage:\n",
        "\n",
        "with open(\"example.txt\", \"r\") as file:\n",
        "    line = file.readline()  # Reads the first line\n",
        "    print(line)\n",
        "    line = file.readline()  # Reads the second line\n",
        "\n",
        "\n",
        "Optional argument: You can pass a number to read up to that many characters in the line.\n",
        "\n",
        "line = file.readline(5)  # Reads first 5 characters of the line\n",
        "\n",
        "\n",
        "Behavior:\n",
        "\n",
        "Reads only one line per call.\n",
        "\n",
        "Useful for large files to avoid loading everything into memory.\n",
        "\n",
        "Keeps the newline character \\n at the end of each line.\n",
        "\n",
        "| Feature          | `file.read()`                  | `file.readline()`              |\n",
        "| ---------------- | ------------------------------ | ------------------------------ |\n",
        "| Reads            | Whole file or N chars          | One line at a time             |\n",
        "| Return Type      | String                         | String (single line)           |\n",
        "| Memory Usage     | High for large files           | Low, efficient for large files |\n",
        "| Newline Handling | Includes all characters        | Includes `\\n` at end of line   |\n",
        "| Typical Use Case | Small files, need full content | Large files, read line by line |\n",
        "\n",
        "\n",
        "Use read() when you need all data at once.\n",
        "\n",
        "Use readline() in a loop for line-by-line processing of large files:\n",
        "\n",
        "with open(\"example.txt\", \"r\") as file:\n",
        "    for line in file:\n",
        "        print(line.strip())"
      ],
      "metadata": {
        "id": "60S2LBNkUXvn"
      }
    },
    {
      "cell_type": "markdown",
      "source": [
        "Q21) What is the logging module in Python used for?"
      ],
      "metadata": {
        "id": "9X8KD4cZChRZ"
      }
    },
    {
      "cell_type": "markdown",
      "source": [
        "The logging module in Python is a built-in module used to record events or messages that occur during program execution. It allows developers to track, debug, and monitor a program’s behavior in a structured and configurable way, instead of using simple print() statements.\n",
        "\n",
        "Key Uses of the logging Module\n",
        "\n",
        "Debugging Programs\n",
        "\n",
        "Helps identify and trace problems by recording information about the program’s execution.\n",
        "\n",
        "Categorizing Messages by Severity\n",
        "\n",
        "Supports different log levels:\n",
        "\n",
        "DEBUG – Detailed diagnostic information\n",
        "\n",
        "INFO – General program information\n",
        "\n",
        "WARNING – Indicates potential issues\n",
        "\n",
        "ERROR – Serious problems that affect program functionality\n",
        "\n",
        "CRITICAL – Very serious errors, often causing program termination\n",
        "\n",
        "Persistence of Logs\n",
        "\n",
        "Logs can be written to files, console, or other output streams, making it easier to review program activity later.\n",
        "\n",
        "Configurable Format and Output\n",
        "\n",
        "Allows customizing log messages with timestamps, severity, module name, and more.\n",
        "\n",
        "Can also direct logs to multiple destinations at once.\n",
        "\n",
        "Example\n",
        "import logging\n",
        "\n",
        "logging.basicConfig(level=logging.INFO, format='%(asctime)s - %(levelname)s - %(message)s')\n",
        "\n",
        "logging.debug(\"This is a debug message\")   # Won't appear (level=INFO)\n",
        "logging.info(\"Program started\")\n",
        "logging.warning(\"This is a warning\")\n",
        "logging.error(\"An error occurred\")\n",
        "logging.critical(\"Critical issue!\")\n",
        "\n",
        "\n",
        "Explanation:\n",
        "\n",
        "basicConfig sets the log level and format.\n",
        "\n",
        "Only messages at the configured level or higher are displayed.\n",
        "\n",
        "Each log message can include a timestamp, severity, and message.\n",
        "\n",
        "**Advantages Over print()**\n",
        "\n",
        "Can filter messages by severity.\n",
        "\n",
        "Logs can be saved for future analysis.\n",
        "\n",
        "Works well for production applications.\n",
        "\n",
        "Avoids cluttering code with temporary print statements.\n",
        "\n",
        "The logging module is used to record, categorize, and manage program messages, providing a professional and flexible way to debug, monitor, and audit Python programs.\n",
        "\n",
        "\n"
      ],
      "metadata": {
        "id": "G5JS_sKCU0RR"
      }
    },
    {
      "cell_type": "markdown",
      "source": [
        "Q22)What is the os module in Python used for in file handling?"
      ],
      "metadata": {
        "id": "6uvnEkfNClH7"
      }
    },
    {
      "cell_type": "markdown",
      "source": [
        "In Python, the os module is used to interact with the operating system, and in the context of file handling, it provides functions to manage files and directories, perform path operations, and retrieve file metadata. It goes beyond simple reading and writing, allowing you to handle files at the system level.\n",
        "\n",
        "Key Uses of os in File Handling\n",
        "\n",
        "Check File or Directory Existence\n",
        "\n",
        "import os\n",
        "\n",
        "print(os.path.exists(\"example.txt\"))  # True if file or directory exists\n",
        "print(os.path.isfile(\"example.txt\"))  # True if it is a file\n",
        "print(os.path.isdir(\"my_folder\"))     # True if it is a directory\n",
        "\n",
        "\n",
        "Create or Delete Directories\n",
        "\n",
        "os.mkdir(\"new_folder\")   # Create a new directory\n",
        "os.rmdir(\"new_folder\")   # Remove an empty directory\n",
        "\n",
        "\n",
        "Rename or Delete Files\n",
        "\n",
        "os.rename(\"old_file.txt\", \"new_file.txt\")  # Rename a file\n",
        "os.remove(\"example.txt\")                    # Delete a file\n",
        "\n",
        "\n",
        "Navigate the File System\n",
        "\n",
        "print(os.getcwd())        # Get current working directory\n",
        "os.chdir(\"my_folder\")     # Change the working directory\n",
        "print(os.listdir(\".\"))    # List files and directories in current folder\n",
        "\n",
        "\n",
        "File Metadata and Information\n",
        "\n",
        "print(os.path.getsize(\"example.txt\"))       # File size in bytes\n",
        "print(os.path.getmtime(\"example.txt\"))      # Last modification time\n",
        "\n",
        "\n",
        "Path Manipulation\n",
        "\n",
        "path = os.path.join(\"folder\", \"file.txt\")  # Safe cross-platform path creation\n",
        "print(os.path.abspath(\"file.txt\"))         # Absolute path of the file\n",
        "\n",
        "Summary\n",
        "\n",
        "The os module allows you to:\n",
        "\n",
        "Check existence of files and directories\n",
        "\n",
        "Create, rename, and delete files or directories\n",
        "\n",
        "Navigate the filesystem\n",
        "\n",
        "Get file metadata like size and modification time\n",
        "\n",
        "Handle paths in a platform-independent way\n",
        "\n",
        "In Python, you can raise an exception manually using the raise statement. This allows you to trigger an error intentionally when a certain condition occurs in your program.\n",
        "\n",
        "1. Raising a Built-in Exception\n",
        "x = -5\n",
        "\n",
        "if x < 0:\n",
        "    raise ValueError(\"x cannot be negative\")\n",
        "\n",
        "\n",
        "Explanation:\n",
        "\n",
        "ValueError is a built-in exception.\n",
        "\n",
        "The string \"x cannot be negative\" is an optional error message.\n",
        "\n",
        "When this code runs, Python stops execution and shows the exception.\n",
        "\n",
        "2. Raising a Custom Exception\n",
        "\n",
        "You can also create your own exception class by inheriting from Exception:\n",
        "\n",
        "class MyCustomError(Exception):\n",
        "    pass\n",
        "\n",
        "def check_value(x):\n",
        "    if x < 0:\n",
        "        raise MyCustomError(\"x cannot be negative\")\n",
        "\n",
        "check_value(-10)\n",
        "\n",
        "\n",
        "Explanation:\n",
        "\n",
        "MyCustomError is a user-defined exception.\n",
        "\n",
        "It behaves like a regular exception but allows you to distinguish specific errors in your program.\n",
        "\n",
        "3. Raising Exceptions in Functions\n",
        "def divide(a, b):\n",
        "    if b == 0:\n",
        "        raise ZeroDivisionError(\"Cannot divide by zero\")\n",
        "    return a / b\n",
        "\n",
        "divide(10, 0)\n",
        "\n",
        "\n",
        "The function raises ZeroDivisionError manually instead of letting Python handle it automatically.\n",
        "\n",
        "Summary\n",
        "\n",
        "Use raise ExceptionType(\"message\") to manually trigger an exception.\n",
        "\n",
        "Can be built-in exceptions (like ValueError, TypeError, etc.) or custom exceptions.\n",
        "\n",
        "Useful for input validation, enforcing rules, or signaling errors in your code.\n",
        "\n",
        " Always include a meaningful message with your exception to make debugging easier.\n",
        "Use the os module for system-level file operations that cannot be done with simple open(), read(), or write() functions."
      ],
      "metadata": {
        "id": "6E9aLVbPW0GE"
      }
    },
    {
      "cell_type": "markdown",
      "source": [
        "Q23)What are the challenges associated with memory management in Python?"
      ],
      "metadata": {
        "id": "hr1vEsVOCrdE"
      }
    },
    {
      "cell_type": "markdown",
      "source": [
        "Q24)  How do you raise an exception manually in Python ?"
      ],
      "metadata": {
        "id": "kXqdaoWCC2ig"
      }
    },
    {
      "cell_type": "markdown",
      "source": [
        "In Python, you can raise an exception manually using the raise statement. This allows you to trigger an error intentionally when a certain condition occurs in your program.\n",
        "\n",
        "1. Raising a Built-in Exception\n",
        "x = -5\n",
        "\n",
        "if x < 0:\n",
        "    raise ValueError(\"x cannot be negative\")\n",
        "\n",
        "\n",
        "Explanation:\n",
        "\n",
        "ValueError is a built-in exception.\n",
        "\n",
        "The string \"x cannot be negative\" is an optional error message.\n",
        "\n",
        "When this code runs, Python stops execution and shows the exception.\n",
        "\n",
        "2. Raising a Custom Exception\n",
        "\n",
        "You can also create your own exception class by inheriting from Exception:\n",
        "\n",
        "class MyCustomError(Exception):\n",
        "    pass\n",
        "\n",
        "def check_value(x):\n",
        "    if x < 0:\n",
        "        raise MyCustomError(\"x cannot be negative\")\n",
        "\n",
        "check_value(-10)\n",
        "\n",
        "\n",
        "Explanation:\n",
        "\n",
        "MyCustomError is a user-defined exception.\n",
        "\n",
        "It behaves like a regular exception but allows you to distinguish specific errors in your program.\n",
        "\n",
        "3. Raising Exceptions in Functions\n",
        "def divide(a, b):\n",
        "    if b == 0:\n",
        "        raise ZeroDivisionError(\"Cannot divide by zero\")\n",
        "    return a / b\n",
        "\n",
        "divide(10, 0)\n",
        "\n",
        "\n",
        "The function raises ZeroDivisionError manually instead of letting Python handle it automatically.\n",
        "\n",
        "Summary\n",
        "\n",
        "Use raise ExceptionType(\"message\") to manually trigger an exception.\n",
        "\n",
        "Can be built-in exceptions (like ValueError, TypeError, etc.) or custom exceptions.\n",
        "\n",
        "Useful for input validation, enforcing rules, or signaling errors in your code.\n",
        "\n",
        "Always include a meaningful message with your exception to make debugging easier."
      ],
      "metadata": {
        "id": "osIGvezlYKb6"
      }
    },
    {
      "cell_type": "markdown",
      "source": [
        "Q25)Why is it important to use multithreading in certain applications?"
      ],
      "metadata": {
        "id": "cqZfSkGrC6ke"
      }
    },
    {
      "cell_type": "markdown",
      "source": [
        "Multithreading is important in certain applications because it allows a program to do more than one thing at the same time, which improves efficiency, responsiveness, and user experience.\n",
        "\n",
        " Reasons Why Multithreading is Important\n",
        "1. Concurrency for I/O-bound tasks\n",
        "\n",
        "Many programs spend time waiting (e.g., for files, networks, or databases).\n",
        "\n",
        "Threads let the program work on other tasks while waiting.\n",
        "Example: A web browser can download multiple files at once.\n",
        "\n",
        "2. Improved Responsiveness\n",
        "\n",
        "In GUI or real-time applications, running heavy tasks on the main thread can freeze the interface.\n",
        "\n",
        "With threads, the UI stays responsive while background tasks run.\n",
        "Example: A video player continues playing smoothly while downloading subtitles.\n",
        "\n",
        "3. Better Resource Utilization\n",
        "\n",
        "Threads share the same memory space, so communication between them is faster and easier than between processes.\n",
        "Example: A server handling multiple client requests without creating a full new process each time.\n",
        "\n",
        "4. Parallel Event Handling\n",
        "\n",
        "Useful when a program must handle multiple events at once (e.g., multiple incoming network connections).\n",
        "Example: A chat server managing hundreds of users simultaneously.\n",
        "\n",
        "5. Scalability in Real-time Systems\n",
        "\n",
        "Threads allow scaling of applications that need to react quickly to many inputs.\n",
        "Example: Online gaming servers, stock trading platforms.\n",
        "\n",
        "\n",
        "Use multithreading when your app is I/O-bound (lots of waiting).\n",
        "\n",
        "It keeps apps responsive, handles many tasks at once, and makes better use of resources.\n",
        "\n",
        "For CPU-heavy work, however, Python’s multiprocessing is usually better because of the Global Interpreter Lock (GIL)."
      ],
      "metadata": {
        "id": "t3sMIjDD0C9H"
      }
    },
    {
      "cell_type": "markdown",
      "source": [
        "# **Practical Questions**"
      ],
      "metadata": {
        "id": "xfkNP7_wDC6h"
      }
    },
    {
      "cell_type": "markdown",
      "source": [
        "Q1)How can you open a file for writing in Python and write a string to it?"
      ],
      "metadata": {
        "id": "KI5naWrnDHCy"
      }
    },
    {
      "cell_type": "code",
      "source": [
        "# Open the file in write mode\n",
        "file = open(\"example.txt\", \"w\")\n",
        "\n",
        "# Write a string to the file\n",
        "file.write(\"Hello, this is a sample text!\")\n",
        "\n",
        "# Close the file\n",
        "file.close()\n"
      ],
      "metadata": {
        "id": "i2MPx8Ng0dgL"
      },
      "execution_count": null,
      "outputs": []
    },
    {
      "cell_type": "markdown",
      "source": [
        "Using with (Recommended)\n",
        "\n",
        "Using with automatically closes the file after writing:"
      ],
      "metadata": {
        "id": "WVjuvbT102MT"
      }
    },
    {
      "cell_type": "code",
      "source": [
        "with open(\"example.txt\", \"w\") as file:\n",
        "    file.write(\"Hello, this is written using 'with'!\")"
      ],
      "metadata": {
        "id": "YAEC7iY2055R"
      },
      "execution_count": null,
      "outputs": []
    },
    {
      "cell_type": "markdown",
      "source": [
        "Key Points\n",
        "\n",
        "\"w\" mode creates a new file if it doesn’t exist.\n",
        "\n",
        "If the file already exists, \"w\" mode will overwrite it.\n",
        "\n",
        "Use \"a\" (append mode) if you want to add content instead of overwriting."
      ],
      "metadata": {
        "id": "czEzT6Kg1Baj"
      }
    },
    {
      "cell_type": "markdown",
      "source": [
        "Q2)Write a Python program to read the contents of a file and print each line?"
      ],
      "metadata": {
        "id": "kOVxHFsmDMqi"
      }
    },
    {
      "cell_type": "code",
      "source": [
        "# Open the file in read mode\n",
        "with open(\"example.txt\", \"r\") as file:\n",
        "    # Loop through each line in the file\n",
        "    for line in file:\n",
        "        # Print each line (strip removes extra newline characters)\n",
        "        print(line.strip())"
      ],
      "metadata": {
        "id": "EdbdSedJ1VGH"
      },
      "execution_count": null,
      "outputs": []
    },
    {
      "cell_type": "markdown",
      "source": [
        "\"r\" → opens the file in read mode.\n",
        "\n",
        "for line in file: → iterates over each line in the file.\n",
        "\n",
        "strip() → removes trailing newline characters for cleaner output.\n",
        "\n",
        "Alternative: Reading all lines at once"
      ],
      "metadata": {
        "id": "ZAU2TlWt1afS"
      }
    },
    {
      "cell_type": "code",
      "source": [
        "with open(\"example.txt\", \"r\") as file:\n",
        "    lines = file.readlines()   # Returns a list of lines\n",
        "    for line in lines:\n",
        "        print(line.strip())"
      ],
      "metadata": {
        "id": "6rDnbHcT1sIl"
      },
      "execution_count": null,
      "outputs": []
    },
    {
      "cell_type": "markdown",
      "source": [
        "Q3)How would you handle a case where the file doesn't exist while trying to open it for reading?"
      ],
      "metadata": {
        "id": "9Y1LBTgaDSUM"
      }
    },
    {
      "cell_type": "markdown",
      "source": [
        "If you try to open a file that doesn’t exist in read mode (\"r\"), Python raises a FileNotFoundError.\n",
        "You can handle this using try-except."
      ],
      "metadata": {
        "id": "PSEENkKK13pH"
      }
    },
    {
      "cell_type": "code",
      "source": [
        "# Example: Handling Missing File\n",
        "try:\n",
        "    with open(\"example.txt\", \"r\") as file:\n",
        "        for line in file:\n",
        "            print(line.strip())\n",
        "except FileNotFoundError:\n",
        "    print(\"Error: The file does not exist!\")\n",
        "\n",
        "# Handling Multiple Exceptions"
      ],
      "metadata": {
        "id": "RMD9dA1q15_p"
      },
      "execution_count": null,
      "outputs": []
    },
    {
      "cell_type": "markdown",
      "source": [
        "Sometimes, other errors can occur (like permission issues). You can catch them too:"
      ],
      "metadata": {
        "id": "ctuKDDus2Gmb"
      }
    },
    {
      "cell_type": "code",
      "source": [
        "try:\n",
        "    with open(\"example.txt\", \"r\") as file:\n",
        "        print(file.read())\n",
        "except FileNotFoundError:\n",
        "    print(\"Error: File not found.\")\n",
        "except PermissionError:\n",
        "    print(\"Error: You don’t have permission to read this file.\")\n",
        "except Exception as e:\n",
        "    print(f\"An unexpected error occurred: {e}\")"
      ],
      "metadata": {
        "id": "tuxseGSR2IW4"
      },
      "execution_count": null,
      "outputs": []
    },
    {
      "cell_type": "markdown",
      "source": [
        "Key Idea\n",
        "\n",
        "try → contains code that may cause an error.\n",
        "\n",
        "except FileNotFoundError → handles the case where the file is missing.\n",
        "\n",
        "You can add more except blocks for different errors."
      ],
      "metadata": {
        "id": "WOKDXTg_2PKH"
      }
    },
    {
      "cell_type": "markdown",
      "source": [
        "Q4) Write a Python script that reads from one file and writes its content to another file?"
      ],
      "metadata": {
        "id": "pu3LZ0LXDYLv"
      }
    },
    {
      "cell_type": "code",
      "source": [
        "# Read from one file and write its content to another file\n",
        "\n",
        "# Source file (the file we read from)\n",
        "source_file = \"input.txt\"\n",
        "\n",
        "# Destination file (the file we write to)\n",
        "destination_file = \"output.txt\"\n",
        "\n",
        "try:\n",
        "    # Open source file in read mode\n",
        "    with open(source_file, \"r\") as infile:\n",
        "        # Read content from the source file\n",
        "        content = infile.read()\n",
        "\n",
        "    # Open destination file in write mode\n",
        "    with open(destination_file, \"w\") as outfile:\n",
        "        # Write content to the new file\n",
        "        outfile.write(content)\n",
        "\n",
        "    print(f\"Contents copied from {source_file} to {destination_file}\")\n",
        "\n",
        "except FileNotFoundError:\n",
        "    print(\"Error: The source file does not exist.\")"
      ],
      "metadata": {
        "id": "YCjw2qY72Yxf"
      },
      "execution_count": null,
      "outputs": []
    },
    {
      "cell_type": "markdown",
      "source": [
        "How it Works:\n",
        "\n",
        "Open the input file in \"r\" (read mode).\n",
        "\n",
        "Read the entire content using .read().\n",
        "\n",
        "Open the output file in \"w\" (write mode).\n",
        "\n",
        "Write the content into the output file.\n",
        "\n",
        "If the source file doesn’t exist, a FileNotFoundError is handled."
      ],
      "metadata": {
        "id": "pI8xOusO2deP"
      }
    },
    {
      "cell_type": "markdown",
      "source": [
        "Q5)How would you catch and handle division by zero error in Python?"
      ],
      "metadata": {
        "id": "YfmGkiwEDfi5"
      }
    },
    {
      "cell_type": "markdown",
      "source": [
        "In Python, dividing a number by zero raises a ZeroDivisionError. You can handle this error using try-except."
      ],
      "metadata": {
        "id": "O5DcrxeF2mTe"
      }
    },
    {
      "cell_type": "code",
      "source": [
        "try:\n",
        "    a = 10\n",
        "    b = 0\n",
        "    result = a / b\n",
        "    print(\"Result:\", result)\n",
        "\n",
        "except ZeroDivisionError:\n",
        "    print(\"Error: Division by zero is not allowed.\")"
      ],
      "metadata": {
        "id": "c6iE1eO92nUt"
      },
      "execution_count": null,
      "outputs": []
    },
    {
      "cell_type": "code",
      "source": [
        "# Example with User Input\n",
        "\n",
        "try:\n",
        "    num1 = int(input(\"Enter numerator: \"))\n",
        "    num2 = int(input(\"Enter denominator: \"))\n",
        "    result = num1 / num2\n",
        "    print(\"Result:\", result)\n",
        "\n",
        "except ZeroDivisionError:\n",
        "    print(\"Error: Cannot divide by zero.\")\n",
        "except ValueError:\n",
        "    print(\"Error: Please enter valid numbers.\")"
      ],
      "metadata": {
        "id": "sxDSiD5o2wYb"
      },
      "execution_count": null,
      "outputs": []
    },
    {
      "cell_type": "markdown",
      "source": [
        "Explanation\n",
        "\n",
        "try → Code that may raise an error.\n",
        "\n",
        "except ZeroDivisionError → Handles the specific case of dividing by zero.\n",
        "\n",
        "You can also add other except blocks for different errors (like invalid input)."
      ],
      "metadata": {
        "id": "5UwZ2FQu3AJL"
      }
    },
    {
      "cell_type": "markdown",
      "source": [
        "Q6) Write a Python program that logs an error message to a log file when a division by zero exception occurs?"
      ],
      "metadata": {
        "id": "zyWN863IDlcY"
      }
    },
    {
      "cell_type": "markdown",
      "source": [
        "Perfect use case for the logging module\n",
        "Instead of just printing errors, we can log them into a file for debugging and monitoring."
      ],
      "metadata": {
        "id": "crVyThP93HxR"
      }
    },
    {
      "cell_type": "code",
      "source": [
        "import logging\n",
        "\n",
        "# Configure logging to write to a file\n",
        "logging.basicConfig(\n",
        "    filename=\"error.log\",           # Log file name\n",
        "    level=logging.ERROR,            # Log only ERROR and above\n",
        "    format=\"%(asctime)s - %(levelname)s - %(message)s\"\n",
        ")\n",
        "\n",
        "def safe_divide(a, b):\n",
        "    try:\n",
        "        return a / b\n",
        "    except ZeroDivisionError as e:\n",
        "        logging.error(\"Division by zero error: attempted to divide %s by %s\", a, b)\n",
        "        return None\n",
        "\n",
        "# Test the function\n",
        "result = safe_divide(10, 0)\n",
        "\n",
        "if result is None:\n",
        "    print(\"Error occurred! Check error.log for details.\")"
      ],
      "metadata": {
        "id": "brizLMFb3Jni"
      },
      "execution_count": null,
      "outputs": []
    },
    {
      "cell_type": "markdown",
      "source": [
        "How it Works:\n",
        "\n",
        "logging.basicConfig() → sets up logging to write to error.log.\n",
        "\n",
        "logging.error() → logs the error message with a timestamp and severity.\n",
        "\n",
        "If a division by zero occurs, the error is recorded in error.log like this:\n"
      ],
      "metadata": {
        "id": "SSHLHJJk3RGP"
      }
    },
    {
      "cell_type": "code",
      "source": [
        "2025-10-03 05:30:15,123 - ERROR - Division by zero error: attempted to divide 10 by 0\n"
      ],
      "metadata": {
        "id": "2ruTomlw3c9V"
      },
      "execution_count": null,
      "outputs": []
    },
    {
      "cell_type": "markdown",
      "source": [
        "Q7)How do you log information at different levels (INFO, ERROR, WARNING) in Python using the logging module?"
      ],
      "metadata": {
        "id": "TiGsWGwbDvGi"
      }
    },
    {
      "cell_type": "markdown",
      "source": [
        "Python’s logging module lets you record messages at different severity levels: DEBUG, INFO, WARNING, ERROR, and CRITICAL."
      ],
      "metadata": {
        "id": "rH9xnrln5qMS"
      }
    },
    {
      "cell_type": "code",
      "source": [
        "import logging\n",
        "\n",
        "# Configure logging\n",
        "logging.basicConfig(\n",
        "    filename=\"app.log\",              # Log file\n",
        "    level=logging.DEBUG,             # Capture all levels (DEBUG and above)\n",
        "    format=\"%(asctime)s - %(levelname)s - %(message)s\"\n",
        ")\n",
        "\n",
        "# Log messages at different levels\n",
        "logging.debug(\"This is a debug message (useful for developers).\")\n",
        "logging.info(\"This is an info message (general information).\")\n",
        "logging.warning(\"This is a warning (something unexpected happened).\")\n",
        "logging.error(\"This is an error (something went wrong).\")\n",
        "logging.critical(\"This is critical (serious problem).\")"
      ],
      "metadata": {
        "id": "0V0F6iBl5vEG"
      },
      "execution_count": null,
      "outputs": []
    },
    {
      "cell_type": "code",
      "source": [
        "025-10-03 06:15:12,345 - DEBUG - This is a debug message (useful for developers).\n",
        "2025-10-03 06:15:12,345 - INFO - This is an info message (general information).\n",
        "2025-10-03 06:15:12,345 - WARNING - This is a warning (something unexpected happened).\n",
        "2025-10-03 06:15:12,345 - ERROR - This is an error (something went wrong).\n",
        "2025-10-03 06:15:12,345 - CRITICAL - This is critical (serious problem)."
      ],
      "metadata": {
        "id": "tjvfRwMK5zik"
      },
      "execution_count": null,
      "outputs": []
    },
    {
      "cell_type": "markdown",
      "source": [
        "Key Points\n",
        "\n",
        "DEBUG → Detailed info for debugging (lowest level).\n",
        "\n",
        "INFO → General runtime events (confirmation program is working).\n",
        "\n",
        "WARNING → Something unexpected, but not breaking.\n",
        "\n",
        "ERROR → A serious issue that caused part of the program to fail.\n",
        "\n",
        "CRITICAL → Very serious error; program may not continue."
      ],
      "metadata": {
        "id": "zpaag9Ua53l-"
      }
    },
    {
      "cell_type": "markdown",
      "source": [
        "Q8)Write a program to handle a file opening error using exception handling?"
      ],
      "metadata": {
        "id": "STkMoXmND1aK"
      }
    },
    {
      "cell_type": "markdown",
      "source": [
        "If a file doesn’t exist or can’t be opened, Python raises a FileNotFoundError (or PermissionError). We can handle it using try-except."
      ],
      "metadata": {
        "id": "w3RPA4kf5_XW"
      }
    },
    {
      "cell_type": "code",
      "source": [
        "try:\n",
        "    # Try to open a file in read mode\n",
        "    with open(\"nonexistent_file.txt\", \"r\") as file:\n",
        "        content = file.read()\n",
        "        print(content)\n",
        "\n",
        "except FileNotFoundError:\n",
        "    print(\"Error: The file was not found.\")\n",
        "except PermissionError:\n",
        "    print(\"Error: You don’t have permission to open this file.\")\n",
        "except Exception as e:\n",
        "    print(f\"An unexpected error occurred: {e}\")"
      ],
      "metadata": {
        "id": "7lvR5TnD6CfG"
      },
      "execution_count": null,
      "outputs": []
    },
    {
      "cell_type": "markdown",
      "source": [
        "\n",
        "try → attempts to open the file.\n",
        "\n",
        "except FileNotFoundError → handles missing file.\n",
        "\n",
        "except PermissionError → handles access issues.\n",
        "\n",
        "except Exception → catches any other unexpected errors."
      ],
      "metadata": {
        "id": "uJqTRGOr619i"
      }
    },
    {
      "cell_type": "markdown",
      "source": [
        "Q9)How can you read a file line by line and store its content in a list in Python?\n"
      ],
      "metadata": {
        "id": "cQ3TG7r2D7vz"
      }
    },
    {
      "cell_type": "markdown",
      "source": [
        "You can easily read a file line by line and store its content in a list using Python’s file handling methods."
      ],
      "metadata": {
        "id": "XIG1JtJV7BTe"
      }
    },
    {
      "cell_type": "code",
      "source": [
        "with open(\"example.txt\", \"r\") as file:\n",
        "    lines = file.readlines()   # Reads all lines into a list\n",
        "    lines = [line.strip() for line in lines]  # Remove extra newline characters\n",
        "\n",
        "print(lines)\n"
      ],
      "metadata": {
        "id": "TO8uKYTg7LNv"
      },
      "execution_count": null,
      "outputs": []
    },
    {
      "cell_type": "code",
      "source": [
        "['First line', 'Second line', 'Third line']\n"
      ],
      "metadata": {
        "id": "wxwqUoCQ7T_C"
      },
      "execution_count": null,
      "outputs": []
    },
    {
      "cell_type": "code",
      "source": [
        "# Method 2: Using a Loop\n",
        "lines = []\n",
        "with open(\"example.txt\", \"r\") as file:\n",
        "    for line in file:\n",
        "        lines.append(line.strip())  # Add each line to list\n",
        "\n",
        "print(lines)"
      ],
      "metadata": {
        "id": "LI5-ZNn97hIk"
      },
      "execution_count": null,
      "outputs": []
    },
    {
      "cell_type": "code",
      "source": [
        "# Method 3: Using List Comprehension (One-liner)\n",
        "with open(\"example.txt\", \"r\") as file:\n",
        "    lines = [line.strip() for line in file]\n",
        "\n",
        "print(lines)"
      ],
      "metadata": {
        "id": "Vp8HWcul7nk0"
      },
      "execution_count": null,
      "outputs": []
    },
    {
      "cell_type": "markdown",
      "source": [
        " Notes\n",
        "\n",
        "readlines() → reads all lines at once into a list.\n",
        "\n",
        "Iterating with for line in file: → memory efficient for large files.\n",
        "\n",
        "strip() → removes \\n at the end of each line."
      ],
      "metadata": {
        "id": "YD2R7Bck7v6C"
      }
    },
    {
      "cell_type": "markdown",
      "source": [
        "Q10) How can you append data to an existing file in Python?"
      ],
      "metadata": {
        "id": "7ODm3N5_EBvx"
      }
    },
    {
      "cell_type": "markdown",
      "source": [
        "In Python, you can append data to an existing file using the open() function with mode \"a\" (append mode). This mode ensures that new data is added to the end of the file without overwriting existing content."
      ],
      "metadata": {
        "id": "RpA73WNm743L"
      }
    },
    {
      "cell_type": "code",
      "source": [
        "# Example: Appending Data\n",
        "# Open the file in append mode\n",
        "with open(\"example.txt\", \"a\") as file:\n",
        "    file.write(\"This line will be added at the end.\\n\")\n",
        "    file.write(\"Another appended line.\\n\")"
      ],
      "metadata": {
        "id": "CTBIR1UR75yT"
      },
      "execution_count": null,
      "outputs": []
    },
    {
      "cell_type": "markdown",
      "source": [
        " Points\n",
        "\n",
        "\"a\" mode → Opens the file for appending; creates the file if it does not exist.\n",
        "\n",
        "\"a+\" mode → Opens for reading and appending.\n",
        "\n",
        "Always include \\n at the end of the string if you want each new entry on a new line.\n",
        "\n",
        "Using with ensures the file is automatically closed after writing."
      ],
      "metadata": {
        "id": "KnuPcF3Z8H4V"
      }
    },
    {
      "cell_type": "code",
      "source": [
        "# Example with User Input\n",
        "text = input(\"Enter text to append to file: \")\n",
        "\n",
        "with open(\"example.txt\", \"a\") as file:\n",
        "    file.write(text + \"\\n\")\n",
        "\n",
        "print(\"Data appended successfully!\")"
      ],
      "metadata": {
        "id": "XTEylMTx8UJY"
      },
      "execution_count": null,
      "outputs": []
    },
    {
      "cell_type": "markdown",
      "source": [
        "Use append mode whenever you want to preserve existing data in a file and just add new information at the end."
      ],
      "metadata": {
        "id": "8FGPbQrP8fw-"
      }
    },
    {
      "cell_type": "markdown",
      "source": [
        "Q11)Write a Python program that uses a try-except block to handle an error when attempting to access a dictionary key that doesn't exist ?"
      ],
      "metadata": {
        "id": "dSKDDRxrELsD"
      }
    },
    {
      "cell_type": "markdown",
      "source": [
        "In Python, trying to access a dictionary key that doesn’t exist raises a KeyError. You can handle this using a try-except block."
      ],
      "metadata": {
        "id": "3ijKcbqw8pz7"
      }
    },
    {
      "cell_type": "code",
      "source": [
        "# Example Program: Handling Missing Dictionary Key\n",
        "# Sample dictionary\n",
        "my_dict = {\n",
        "    \"name\": \"Alice\",\n",
        "    \"age\": 25,\n",
        "    \"city\": \"New York\"\n",
        "}\n",
        "\n",
        "# Key we want to access\n",
        "key_to_access = \"country\"\n",
        "\n",
        "try:\n",
        "    value = my_dict[key_to_access]  # Attempt to access the key\n",
        "    print(f\"The value for '{key_to_access}' is {value}\")\n",
        "except KeyError:\n",
        "    print(f\"Error: The key '{key_to_access}' does not exist in the dictionary.\")"
      ],
      "metadata": {
        "id": "ca7w2rKw8qnb"
      },
      "execution_count": null,
      "outputs": []
    },
    {
      "cell_type": "code",
      "source": [
        "Alternative: Using dict.get() (No Exception Raised)\n",
        "value = my_dict.get(\"country\", \"Not Found\")\n",
        "print(value)  # Output: Not Found"
      ],
      "metadata": {
        "id": "qnJjVoKK86k1"
      },
      "execution_count": null,
      "outputs": []
    },
    {
      "cell_type": "markdown",
      "source": [
        "Explanation:\n",
        "\n",
        ".get() lets you provide a default value if the key is missing.\n",
        "\n",
        "This avoids using a try-except block, but doesn’t allow custom error handling."
      ],
      "metadata": {
        "id": "blhdl06d9EpW"
      }
    },
    {
      "cell_type": "markdown",
      "source": [
        "Q12)Write a program that demonstrates using multiple except blocks to handle different types of exceptions?"
      ],
      "metadata": {
        "id": "HzFYGJYIEWEB"
      }
    },
    {
      "cell_type": "markdown",
      "source": [
        "You can use multiple except blocks in Python to handle different types of exceptions separately. This allows your program to respond differently depending on the error."
      ],
      "metadata": {
        "id": "kY8-sqSy9MIR"
      }
    },
    {
      "cell_type": "code",
      "source": [
        "# Example Program: Multiple except Blocks\n",
        "try:\n",
        "    # User input\n",
        "    num1 = int(input(\"Enter a numerator: \"))\n",
        "    num2 = int(input(\"Enter a denominator: \"))\n",
        "\n",
        "    # Perform division\n",
        "    result = num1 / num2\n",
        "    print(f\"Result: {result}\")\n",
        "\n",
        "    # Access a dictionary key\n",
        "    my_dict = {\"name\": \"Alice\"}\n",
        "    print(my_dict[\"age\"])  # This will raise KeyError\n",
        "\n",
        "except ZeroDivisionError:\n",
        "    print(\"Error: Cannot divide by zero!\")\n",
        "\n",
        "except ValueError:\n",
        "    print(\"Error: Please enter a valid integer!\")\n",
        "\n",
        "except KeyError as e:\n",
        "    print(f\"Error: Key {e} not found in the dictionary!\")\n",
        "\n",
        "except IndexError:\n",
        "    print(\"Error: Index out of range!\")\n",
        "\n",
        "except Exception as e:\n",
        "    print(f\"An unexpected error occurred: {e}\")"
      ],
      "metadata": {
        "id": "pBkjrhd-9NAv"
      },
      "execution_count": null,
      "outputs": []
    },
    {
      "cell_type": "markdown",
      "source": [
        "ZeroDivisionError → Catches division by zero.\n",
        "\n",
        "ValueError → Catches invalid integer input.\n",
        "\n",
        "KeyError → Catches missing dictionary keys.\n",
        "\n",
        "Exception → Catches any other unforeseen errors."
      ],
      "metadata": {
        "id": "2t2yrLeC9SKY"
      }
    },
    {
      "cell_type": "code",
      "source": [
        "Enter a numerator: 10\n",
        "Enter a denominator: 2\n"
      ],
      "metadata": {
        "id": "m2I8lvQh_JXc"
      },
      "execution_count": null,
      "outputs": []
    },
    {
      "cell_type": "markdown",
      "source": [
        "Place specific exceptions first (ZeroDivisionError, KeyError) and general exceptions last (Exception) to handle all cases effectively.\n",
        "\n",
        "I can also make an example combining multiple exception types and logging them to a file if you want. Do you want me to do that?"
      ],
      "metadata": {
        "id": "dnt7GJkB_RUR"
      }
    },
    {
      "cell_type": "markdown",
      "source": [
        "Q13)How would you check if a file exists before attempting to read it in Python?"
      ],
      "metadata": {
        "id": "wQ1qVzIsEZkF"
      }
    },
    {
      "cell_type": "markdown",
      "source": [
        "In Python, you can check if a file exists before trying to read it using the os.path.exists() function from the os module or the Path.exists() method from the pathlib module. This helps avoid a FileNotFoundError."
      ],
      "metadata": {
        "id": "8JuPG5M2_agg"
      }
    },
    {
      "cell_type": "code",
      "source": [
        "Method 1: Using os.path.exists()\n",
        "import os\n",
        "\n",
        "file_path = \"example.txt\"\n",
        "\n",
        "if os.path.exists(file_path):\n",
        "    with open(file_path, \"r\") as file:\n",
        "        content = file.read()\n",
        "        print(content)\n",
        "else:\n",
        "    print(f\"Error: The file '{file_path}' does not exist.\")"
      ],
      "metadata": {
        "id": "q1pEo1xl_bvX"
      },
      "execution_count": null,
      "outputs": []
    },
    {
      "cell_type": "code",
      "source": [
        "Method 2: Using pathlib.Path\n",
        "from pathlib import Path\n",
        "\n",
        "file_path = Path(\"example.txt\")\n",
        "\n",
        "if file_path.exists():\n",
        "    with file_path.open(\"r\") as file:\n",
        "        content = file.read()\n",
        "        print(content)\n",
        "else:\n",
        "    print(f\"Error: The file '{file_path}' does not exist.\")"
      ],
      "metadata": {
        "id": "iHiPtcMl_iK8"
      },
      "execution_count": null,
      "outputs": []
    },
    {
      "cell_type": "markdown",
      "source": [
        "Points\n",
        "\n",
        "os.path.exists(path) → Returns True if the file or directory exists.\n",
        "\n",
        "pathlib.Path(path).exists() → Modern, object-oriented approach.\n",
        "\n",
        "Using these checks prevents FileNotFoundError when opening files."
      ],
      "metadata": {
        "id": "X7fYIGcW_lxE"
      }
    },
    {
      "cell_type": "markdown",
      "source": [
        "Q14) Write a program that uses the logging module to log both informational and error messages?"
      ],
      "metadata": {
        "id": "xdcnfwr8Eh1r"
      }
    },
    {
      "cell_type": "markdown",
      "source": [
        "use Python’s logging module to log messages at different levels, such as INFO and ERROR, in the same program."
      ],
      "metadata": {
        "id": "YcTfhalk_vcl"
      }
    },
    {
      "cell_type": "code",
      "source": [
        "Example Program: Logging INFO and ERROR Messages\n",
        "import logging\n",
        "\n",
        "# Configure logging\n",
        "logging.basicConfig(\n",
        "    filename=\"app.log\",              # Log file name\n",
        "    level=logging.DEBUG,             # Capture all levels (DEBUG and above)\n",
        "    format=\"%(asctime)s - %(levelname)s - %(message)s\"\n",
        ")\n",
        "\n",
        "def divide_numbers(a, b):\n",
        "    try:\n",
        "        result = a / b\n",
        "        logging.info(f\"Division successful: {a} / {b} = {result}\")\n",
        "        return result\n",
        "    except ZeroDivisionError:\n",
        "        logging.error(f\"Division by zero attempted: {a} / {b}\")\n",
        "        return None\n",
        "\n",
        "# Example usage\n",
        "divide_numbers(10, 2)   # Should log INFO\n",
        "divide_numbers(10, 0)   # Should log ERROR\n"
      ],
      "metadata": {
        "id": "RBbaH1cu_1H3"
      },
      "execution_count": null,
      "outputs": []
    },
    {
      "cell_type": "markdown",
      "source": [
        "logging.basicConfig() → Sets up the log file, level, and format.\n",
        "\n",
        "logging.info() → Logs normal informational messages.\n",
        "\n",
        "logging.error() → Logs error messages when something goes wrong.\n",
        "\n",
        "app.log will contain entries like:"
      ],
      "metadata": {
        "id": "oBXECCx-_8Vz"
      }
    },
    {
      "cell_type": "code",
      "source": [
        "2025-10-03 06:45:10,123 - INFO - Division successful: 10 / 2 = 5.0\n",
        "2025-10-03 06:45:10,124 - ERROR - Division by zero attempted: 10 / 0\n"
      ],
      "metadata": {
        "id": "GpT1sBz1AC98"
      },
      "execution_count": null,
      "outputs": []
    },
    {
      "cell_type": "markdown",
      "source": [
        "You can also log warnings, debug info, and critical messages using logging.warning(), logging.debug(), and logging.critical() in the same program."
      ],
      "metadata": {
        "id": "d5Ev3GU_AHaY"
      }
    },
    {
      "cell_type": "markdown",
      "source": [
        "Q15)Write a Python program that prints the content of a file and handles the case when the file is empty?"
      ],
      "metadata": {
        "id": "Ff0sx7brEnSo"
      }
    },
    {
      "cell_type": "markdown",
      "source": [
        "You can read a file and handle the case when it’s empty by checking if the content has any data."
      ],
      "metadata": {
        "id": "3j-ZZ338AT86"
      }
    },
    {
      "cell_type": "code",
      "source": [
        "\n",
        "Example Program: Handling Empty File\n",
        "file_path = \"example.txt\"\n",
        "\n",
        "try:\n",
        "    with open(file_path, \"r\") as file:\n",
        "        content = file.read()\n",
        "\n",
        "        if content:  # Check if content is not empty\n",
        "            print(\"File content:\")\n",
        "            print(content)\n",
        "        else:\n",
        "            print(\"The file is empty.\")\n",
        "\n",
        "except FileNotFoundError:\n",
        "    print(f\"Error: The file '{file_path}' does not exist.\")\n",
        "except Exception as e:\n",
        "    print(f\"An unexpected error occurred: {e}\")"
      ],
      "metadata": {
        "id": "84qnEMseAU2e"
      },
      "execution_count": null,
      "outputs": []
    },
    {
      "cell_type": "markdown",
      "source": [
        "How it Works\n",
        "\n",
        "Opens the file in read mode.\n",
        "\n",
        "Reads the entire content using .read().\n",
        "\n",
        "Checks if the content is empty:\n",
        "\n",
        "If not empty → prints the content.\n",
        "\n",
        "If empty → prints \"The file is empty.\"\n",
        "\n",
        "Handles missing file or other unexpected errors using try-except.\n",
        "\n",
        "or large files, you can check if the file is empty without reading everything using os.path.getsize(file_path):"
      ],
      "metadata": {
        "id": "5DqniV62AiDS"
      }
    },
    {
      "cell_type": "markdown",
      "source": [
        "Q16)Demonstrate how to use memory profiling to check the memory usage of a small program?"
      ],
      "metadata": {
        "id": "ROHowHy7EqJp"
      }
    },
    {
      "cell_type": "markdown",
      "source": [
        "In Python, you can profile memory usage using the memory_profiler module. It allows you to see how much memory is consumed by a program or even by individual functions.\n",
        "\n",
        "Step 1: Install memory_profiler"
      ],
      "metadata": {
        "id": "fyDEH_FUAxWU"
      }
    },
    {
      "cell_type": "code",
      "source": [
        "Step 1: Install memory_profiler\n",
        "pip install memory-profiler"
      ],
      "metadata": {
        "id": "6rBwUiSHAyPq"
      },
      "execution_count": null,
      "outputs": []
    },
    {
      "cell_type": "code",
      "source": [
        "Step 2: Example Program with Memory Profiling\n",
        "from memory_profiler import profile\n",
        "\n",
        "@profile\n",
        "def create_list():\n",
        "    # Function that consumes memory\n",
        "    my_list = [i for i in range(1000000)]  # Large list\n",
        "    print(\"List created\")\n",
        "    return my_list\n",
        "\n",
        "if __name__ == \"__main__\":\n",
        "    create_list()"
      ],
      "metadata": {
        "id": "UtRknuW-A6UC"
      },
      "execution_count": null,
      "outputs": []
    },
    {
      "cell_type": "code",
      "source": [
        "Run the Script\n",
        "\n",
        "Run the program with the -m memory_profiler flag:\n",
        "\n",
        "python -m memory_profiler your_script.py"
      ],
      "metadata": {
        "id": "hDEbVlbjBFvA"
      },
      "execution_count": null,
      "outputs": []
    },
    {
      "cell_type": "markdown",
      "source": [
        "Example Output\n",
        "\n",
        "\n",
        "Line #    Mem usage    Increment   Line Contents\n",
        "================================================\n",
        "     4     5.64 MiB     0.00 MiB   @profile\n",
        "     5                             def create_list():\n",
        "     6    38.20 MiB    32.56 MiB       my_list = [i for i in range(1000000)]\n",
        "     7    38.20 MiB     0.00 MiB       print(\"List created\")\n",
        "     8    38.20 MiB     0.00 MiB       return my_list\n"
      ],
      "metadata": {
        "id": "m5ABzzbBBrVg"
      }
    },
    {
      "cell_type": "markdown",
      "source": [
        "Mem usage → Memory used by the program at that line.\n",
        "\n",
        "Increment → Additional memory consumed by that line.\n",
        "\n",
        "Helps identify memory-heavy parts of your code.\n",
        "\n",
        "Useful for optimizing programs, especially for large datasets or long-running applications.\n",
        "\n",
        "For small scripts, memory_profiler gives a clear view of which operations consume the most memory, so you can optimize data structures or loops accordingly."
      ],
      "metadata": {
        "id": "wS2MICysB54I"
      }
    },
    {
      "cell_type": "markdown",
      "source": [
        "Q17)Write a Python program to create and write a list of numbers to a file, one number per line?"
      ],
      "metadata": {
        "id": "1X6E53tcExY1"
      }
    },
    {
      "cell_type": "markdown",
      "source": [
        "You can write a list of numbers to a file in Python using a loop and the write() method. Each number can be written on a separate line by adding a newline character (\\n)."
      ],
      "metadata": {
        "id": "Y-Jkm1BKCKcE"
      }
    },
    {
      "cell_type": "code",
      "source": [
        "Example Program\n",
        "# List of numbers\n",
        "numbers = [10, 20, 30, 40, 50]\n",
        "\n",
        "# File to write to\n",
        "file_path = \"numbers.txt\"\n",
        "\n",
        "# Open the file in write mode\n",
        "with open(file_path, \"w\") as file:\n",
        "    for num in numbers:\n",
        "        file.write(f\"{num}\\n\")  # Write each number on a new line\n",
        "\n",
        "print(f\"Numbers written to {file_path} successfully!\")"
      ],
      "metadata": {
        "id": "R9yUrcP6CLWA"
      },
      "execution_count": null,
      "outputs": []
    },
    {
      "cell_type": "code",
      "source": [
        "numbers.txt"
      ],
      "metadata": {
        "id": "v1s_obmSCk8T"
      },
      "execution_count": null,
      "outputs": []
    },
    {
      "cell_type": "markdown",
      "source": [
        "with open(file_path, \"w\") → Opens the file for writing (creates it if it doesn’t exist, overwrites if it does).\n",
        "\n",
        "for num in numbers: → Iterates through each number in the list.\n",
        "\n",
        "file.write(f\"{num}\\n\") → Writes the number followed by a newline character.\n",
        "\n",
        "Using with ensures the file is automatically closed after writing.\n",
        "\n",
        "To append numbers instead of overwriting, use mode \"a\" instead of \"w\".\n",
        "\n",
        "You can also use writelines() with a list of strings:"
      ],
      "metadata": {
        "id": "E4Jnzj2-CSse"
      }
    },
    {
      "cell_type": "markdown",
      "source": [
        " Q18) How would you implement a basic logging setup that logs to a file with rotation after 1MB"
      ],
      "metadata": {
        "id": "Z0oGDwdME2Tl"
      }
    },
    {
      "cell_type": "markdown",
      "source": [
        "Q19)Write a program that handles both IndexError and KeyError using a try-except block?"
      ],
      "metadata": {
        "id": "iYOu95KCE7cE"
      }
    },
    {
      "cell_type": "markdown",
      "source": [
        "Q20)How would you open a file and read its contents using a context manager in Python?"
      ],
      "metadata": {
        "id": "hPFLVdYIFYUy"
      }
    },
    {
      "cell_type": "markdown",
      "source": [
        "Q21)Write a Python program that reads a file and prints the number of occurrences of a specific word?"
      ],
      "metadata": {
        "id": "lVtvCPxQFgw4"
      }
    },
    {
      "cell_type": "markdown",
      "source": [
        "Q22) How can you check if a file is empty before attempting to read its contents?"
      ],
      "metadata": {
        "id": "D1nGtL-TFj9c"
      }
    },
    {
      "cell_type": "markdown",
      "source": [
        "Q23) Write a Python program that writes to a log file when an error occurs during file handling?"
      ],
      "metadata": {
        "id": "6lHGzSZ1FqL1"
      }
    }
  ]
}